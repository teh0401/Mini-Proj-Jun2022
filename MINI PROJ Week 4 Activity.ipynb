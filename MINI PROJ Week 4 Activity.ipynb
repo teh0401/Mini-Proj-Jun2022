{
 "cells": [
  {
   "cell_type": "code",
   "execution_count": 1,
   "id": "5ea4bec3",
   "metadata": {
    "scrolled": true
   },
   "outputs": [
    {
     "data": {
      "text/plain": [
       "True"
      ]
     },
     "execution_count": 1,
     "metadata": {},
     "output_type": "execute_result"
    }
   ],
   "source": [
    "import sys\n",
    "# Python 3.7 is required\n",
    "assert sys.version_info >= (3,7)\n",
    "\n",
    "import cv2 as cv\n",
    "import numpy as np\n",
    "\n",
    "# For reproducibility,\n",
    "np.random.seed(99)\n",
    "\n",
    "# Make sure that optimization is enabled\n",
    "if not cv.useOptimized():\n",
    "    cv.setUseOptimized(True)\n",
    "\n",
    "cv.useOptimized()"
   ]
  },
  {
   "cell_type": "markdown",
   "id": "6483d10b",
   "metadata": {},
   "source": [
    "# 1\n",
    "Suggest two ways and write codes to display two images simultaneously. You can use any image snapped from your handphone, downloaded from internet or images from week 4 materials on MS teams. The two images are a color image and its corresponding grayscale image."
   ]
  },
  {
   "cell_type": "code",
   "execution_count": null,
   "id": "311e9622",
   "metadata": {},
   "outputs": [],
   "source": [
    "#1st way\n",
    "\n",
    "smile = cv.imread('happy.jpg')   \n",
    "smile_gray = cv.imread('happy.jpg', 0)  \n",
    "\n",
    "cv.imshow('original',smile)\n",
    "cv.imshow('gray', smile_gray)\n",
    "cv.waitKey(0)\n",
    "cv.destroyAllWindows()"
   ]
  },
  {
   "cell_type": "code",
   "execution_count": 20,
   "id": "e0443def",
   "metadata": {},
   "outputs": [],
   "source": [
    "#2nd way\n",
    "\n",
    "smile = cv.imread('happy.jpg')   \n",
    "smile_gray = cv.cvtColor(smile, cv.COLOR_BGR2GRAY) \n",
    "\n",
    "cv.imshow('original',smile)\n",
    "cv.imshow('gray', smile_gray)\n",
    "cv.waitKey(0)\n",
    "cv.destroyAllWindows()\n"
   ]
  },
  {
   "cell_type": "markdown",
   "id": "9c07e65f",
   "metadata": {},
   "source": [
    "# 2\n",
    "Write codes that performs the following:\n",
    "Load the video “img_pexels.mp4” into the Python environment, resize it and display the videos with smaller frames (The frames can be of any size, as long as it is smaller). You can specify an arbitrary frame rate.\n",
    "Save it as a separate files: “smaller_img_pexels.avi” or \"smaller_img_pexels.mp4\""
   ]
  },
  {
   "cell_type": "code",
   "execution_count": 11,
   "id": "fe97881f",
   "metadata": {},
   "outputs": [],
   "source": [
    "video = cv.VideoCapture('img_pexels.mp4')\n",
    "fourcc = cv.VideoWriter_fourcc(*'XVID')\n",
    "\n",
    "# smaller frame rate\n",
    "fps = 8\n",
    "\n",
    "# smaller frame\n",
    "width = int((video.get(3))/2)\n",
    "height = int((video.get(4))/4)\n",
    "\n",
    "smallerVideo = cv.VideoWriter('smaller_img_pexels.avi', fourcc, fps, (width, height))\n",
    "\n",
    "while video.isOpened():\n",
    "    ret, frame = video.read()\n",
    "    if not ret:\n",
    "        print(\"Can't receive frame (streaming end)\")\n",
    "        break\n",
    "        \n",
    "    frame = cv.resize(frame, (width, height))\n",
    "    smallerVideo.write(frame)\n",
    "    \n",
    "    cv.imshow('Question 2', frame)\n",
    "    if cv.waitKey(1) & 0xFF == 27:\n",
    "        break\n",
    "\n",
    "video.release()\n",
    "smallerVideo.release()\n",
    "cv.destroyAllWindows()"
   ]
  },
  {
   "cell_type": "markdown",
   "id": "fac0fc09",
   "metadata": {},
   "source": [
    "# 3\n",
    "Create a random noise color and grayscale image. You can set a custom width and height. (Hint: use Numpy functions like np.array and np.reshape.)"
   ]
  },
  {
   "cell_type": "code",
   "execution_count": 21,
   "id": "6b670817",
   "metadata": {},
   "outputs": [],
   "source": [
    "noiseColour = np.random.randint(0, 180, (255,255,3), dtype = np.uint8)\n",
    "\n",
    "noiseGray = np.random.randint(0, 180, (255,255), dtype = np.uint8)\n",
    "noiseGray = np.stack((noiseGray,)*3, axis=-1)\n",
    "\n",
    "noise = np.concatenate((noiseColour, noiseGray))\n",
    "\n",
    "cv.imshow('Question 3',noise)\n",
    "cv.waitKey(0)\n",
    "cv.destroyAllWindows()"
   ]
  }
 ],
 "metadata": {
  "kernelspec": {
   "display_name": "Python 3 (ipykernel)",
   "language": "python",
   "name": "python3"
  },
  "language_info": {
   "codemirror_mode": {
    "name": "ipython",
    "version": 3
   },
   "file_extension": ".py",
   "mimetype": "text/x-python",
   "name": "python",
   "nbconvert_exporter": "python",
   "pygments_lexer": "ipython3",
   "version": "3.9.12"
  }
 },
 "nbformat": 4,
 "nbformat_minor": 5
}
