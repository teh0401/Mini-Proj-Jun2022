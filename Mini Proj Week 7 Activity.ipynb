{
 "cells": [
  {
   "cell_type": "code",
   "execution_count": 1,
   "id": "d56c2412",
   "metadata": {},
   "outputs": [],
   "source": [
    "import numpy as np\n",
    "import cv2 as cv\n",
    "import matplotlib.pyplot as plt"
   ]
  },
  {
   "cell_type": "markdown",
   "id": "519f9af6",
   "metadata": {},
   "source": [
    "# 1\n",
    "Apply histogram equalization on a histogram equalized image. In other words, apply histogram equalization twice on an image. Is there any difference between the first and second output image? You are free to use any image."
   ]
  },
  {
   "cell_type": "code",
   "execution_count": 4,
   "id": "fb9e1393",
   "metadata": {},
   "outputs": [],
   "source": [
    "img = cv.imread('winter.jfif', 0) \n",
    "\n",
    "#histogram equalization\n",
    "eq=cv.equalizeHist(img)\n",
    "eq2=cv.equalizeHist(eq)\n",
    "\n",
    "cv.imshow('result',np.hstack((img,eq,eq2)))\n",
    "\n",
    "cv.waitKey(0)\n",
    "cv.destroyAllWindows()"
   ]
  },
  {
   "cell_type": "markdown",
   "id": "5b1eff02",
   "metadata": {},
   "source": [
    "There is no difference between the 2 images. Equalizing the histogram twice will gives the same histogram."
   ]
  },
  {
   "cell_type": "markdown",
   "id": "5005c5ef",
   "metadata": {},
   "source": [
    "# 2\n",
    "Load the image 'electronic.jfif'. Then,\n",
    "* Experiment with different kernel size. Which kernel size is the most appropriate?\n",
    "* Perform edge detection using Sobel operator (combined both x and y) with and without image smoothing (Gaussian blurring). Display the 2 images.\n",
    "* Try Laplacian of Gaussian\n",
    "- Based on the exercise conducted from (A) - (C), which image processing pathway is optimal? Justify your answer."
   ]
  },
  {
   "cell_type": "code",
   "execution_count": 8,
   "id": "c6edf562",
   "metadata": {},
   "outputs": [],
   "source": [
    "img = cv.imread('electronic.jfif',0)\n",
    "\n",
    "kernel_size = 3\n",
    "\n",
    "laplacian = cv.Laplacian(img, cv.CV_64F, kernel_size)\n",
    "laplacian_8u = np.uint8(np.absolute(laplacian))\n",
    "sobelx = cv.Sobel(img, cv.CV_64F, 1, 0, kernel_size)\n",
    "sobelx_8u = np.uint8(np.absolute(sobelx))\n",
    "sobely = cv.Sobel(img, cv.CV_64F, 0, 1, kernel_size)\n",
    "sobely_8u = np.uint8(np.absolute(sobely))\n",
    "Sobel_no_s = np.hstack((sobelx_8u, sobely_8u))\n",
    "\n",
    "cv.imshow('Laplacian', laplacian_8u)\n",
    "cv.imshow('Sobel without smoothing', Sobel_no_s)\n",
    "\n",
    "img_blur = cv.GaussianBlur(img, (5, 5), 0)\n",
    "sobelx_b = cv.Sobel(img_blur, cv.CV_64F, 1, 0, kernel_size)\n",
    "sobelx_8u_b = np.uint8(np.absolute(sobelx_b))\n",
    "sobely_b = cv.Sobel(img_blur, cv.CV_64F, 0, 1, kernel_size)\n",
    "sobely_8u_b = np.uint8(np.absolute(sobely_b))\n",
    "Sobel_s = np.hstack((sobelx_8u_b, sobely_8u_b))\n",
    "\n",
    "cv.imshow('Sobel with smoothing', Sobel_s)\n",
    "\n",
    "#Laplacian of Gaussian\n",
    "laplacian_blur = cv.Laplacian(img_blur, cv.CV_64F, kernel_size)\n",
    "laplacian_blur = np.uint8(np.absolute(laplacian_blur))\n",
    "\n",
    "cv.imshow('Laplacian of Gaussian', laplacian_blur)\n",
    "\n",
    "cv.waitKey(0)\n",
    "cv.destroyAllWindows()"
   ]
  },
  {
   "cell_type": "markdown",
   "id": "8ec84523",
   "metadata": {},
   "source": [
    "Seems like Laplacian has the best performance."
   ]
  },
  {
   "cell_type": "markdown",
   "id": "5e1eb032",
   "metadata": {},
   "source": [
    "# 3\n",
    "Experiment with different edge detectors: Sobel, Laplacian, Prewitt, Scharr derivatives and Canny operators (all with aperture size of 3) on image named 'pineapple.jfif'. Comment on the results."
   ]
  },
  {
   "cell_type": "code",
   "execution_count": 12,
   "id": "1a03b8fb",
   "metadata": {},
   "outputs": [],
   "source": [
    "img = cv.imread('pineapple.jfif',0)\n",
    "\n",
    "kernel_size = 3\n",
    "\n",
    "#sobel\n",
    "sobelx = cv.Sobel(img, cv.CV_64F, 1, 0, kernel_size)\n",
    "sobelx_8u = np.uint8(np.absolute(sobelx))\n",
    "sobely = cv.Sobel(img, cv.CV_64F, 0, 1, kernel_size)\n",
    "sobely_8u = np.uint8(np.absolute(sobely))\n",
    "Sobel_no_s = np.hstack((sobelx_8u, sobely_8u))\n",
    "cv.imshow('Sobel', Sobel_no_s)\n",
    "\n",
    "#laplacian\n",
    "laplacian = cv.Laplacian(img, cv.CV_64F, kernel_size)\n",
    "laplacian_8u = np.uint8(np.absolute(laplacian))\n",
    "cv.imshow('Laplacian', laplacian_8u)\n",
    "\n",
    "#prewitt\n",
    "kernelx = np.array( [ [ .1 , .1 , .1 ] , [ 0 , 0 , 0 ] , [ -.1 , - .1 , - .1 ] ] , int ) \n",
    "kernely = np.array( [ [ -1 , 0 , 1 ] , [ -.1 , 0 , .1 ] , [ - .1 , 0 , .1 ] ] , int )\n",
    "x = cv.filter2D( img , cv.CV_16S , kernelx ) \n",
    "y = cv.filter2D( img , cv.CV_16S, kernely ) \n",
    "absX = cv.convertScaleAbs(x) \n",
    "absY = cv.convertScaleAbs (y) \n",
    "Prewitt = cv . addWeighted ( absX ,  0.5 , absY ,  0.5 ,  0 )\n",
    "cv.imshow('Prewitt', Prewitt)\n",
    "\n",
    "#scharr\n",
    "s=cv.Scharr(img, -1,0,1)\n",
    "cv.imshow('scharr', s)\n",
    "\n",
    "#canny\n",
    "edges = cv.Canny(img, 100, 200)\n",
    "cv.imshow('Canny', edges)\n",
    "\n",
    "cv.waitKey(0)\n",
    "cv.destroyAllWindows()"
   ]
  },
  {
   "cell_type": "code",
   "execution_count": null,
   "id": "b896bfa4",
   "metadata": {},
   "outputs": [],
   "source": [
    "canny seems to have the best performance among them"
   ]
  },
  {
   "cell_type": "markdown",
   "id": "f7ee394b",
   "metadata": {},
   "source": [
    "# 4\n",
    "Write a program to identify the white object (probably laptop) present in the image 'electronic.jfif'. Draw bounding boxes on the objects."
   ]
  },
  {
   "cell_type": "code",
   "execution_count": 76,
   "id": "fba9abcc",
   "metadata": {},
   "outputs": [],
   "source": [
    "img = cv.imread('electronic.jfif',0)\n",
    "img_blur = cv.GaussianBlur(img, (5, 5), 0)\n",
    "\n",
    "ret, thresh = cv.threshold(img_blur, 200, 255, cv.THRESH_BINARY)\n",
    "contours, h = cv.findContours(thresh, cv.RETR_TREE, cv.CHAIN_APPROX_SIMPLE)\n",
    "cv.imshow('thresh', thresh)\n",
    "\n",
    "# Draw contours\n",
    "cnt = contours[0]\n",
    "img_bgr = cv.imread('electronic.jfif')\n",
    "cv.drawContours(img_bgr,contours, -1, (0, 255, 0), 2, cv.LINE_AA)\n",
    "\n",
    "\n",
    "cv.imshow('contour', img_bgr)\n",
    "cv.waitKey(0)\n",
    "cv.destroyAllWindows()"
   ]
  },
  {
   "cell_type": "code",
   "execution_count": 75,
   "id": "29543eb7",
   "metadata": {},
   "outputs": [
    {
     "data": {
      "text/plain": [
       "-1"
      ]
     },
     "execution_count": 75,
     "metadata": {},
     "output_type": "execute_result"
    }
   ],
   "source": [
    "img = cv.imread('electronic.jfif')\n",
    "for c in contours:\n",
    "    x, y, w, h = cv.boundingRect(c)\n",
    "    cv.rectangle(img, (x,y), (x+w, y+h), (0, 255, 0), 2)\n",
    "\n",
    "cv.imshow('bounding', img)\n",
    "cv.waitKey(0)"
   ]
  }
 ],
 "metadata": {
  "kernelspec": {
   "display_name": "Python 3 (ipykernel)",
   "language": "python",
   "name": "python3"
  },
  "language_info": {
   "codemirror_mode": {
    "name": "ipython",
    "version": 3
   },
   "file_extension": ".py",
   "mimetype": "text/x-python",
   "name": "python",
   "nbconvert_exporter": "python",
   "pygments_lexer": "ipython3",
   "version": "3.9.12"
  }
 },
 "nbformat": 4,
 "nbformat_minor": 5
}
