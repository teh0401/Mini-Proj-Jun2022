{
 "cells": [
  {
   "cell_type": "code",
   "execution_count": 1,
   "id": "c9940be2",
   "metadata": {},
   "outputs": [
    {
     "data": {
      "text/plain": [
       "True"
      ]
     },
     "execution_count": 1,
     "metadata": {},
     "output_type": "execute_result"
    }
   ],
   "source": [
    "import sys\n",
    "assert sys.version_info >=(3,7)\n",
    "\n",
    "import numpy as np\n",
    "import cv2 as cv\n",
    "\n",
    "if not cv.useOptimized():\n",
    "    cv.setUseOptimized(True)\n",
    "    \n",
    "cv.useOptimized()"
   ]
  },
  {
   "cell_type": "markdown",
   "id": "bc29861b",
   "metadata": {},
   "source": [
    "# 1\n",
    "Convert the code chunk found under section Divide an image into smaller patches using cropping into a function with the following signature:\n",
    "crop_grid(img, num_horizontal_grid, num_vertical_grid, line_color)\n",
    "#img is the source image\n",
    "#num_horizontal_grid and num_vertical_grid are the number of patches along x and y axes.\n",
    "#line_color is the color of the grid line.\n",
    "#The output of the function should be image with grids"
   ]
  },
  {
   "cell_type": "code",
   "execution_count": 3,
   "id": "86436d04",
   "metadata": {},
   "outputs": [],
   "source": [
    "def  crop_grid(img, num_horizontal_grid, num_vertical_grid, line_color):\n",
    "    img_copy = img.copy()\n",
    "    height, width = img.shape[:2]\n",
    "\n",
    "    # M and N are basically number of pixels per patch\n",
    "    M, N = height//num_horizontal_grid, width//num_vertical_grid\n",
    "\n",
    "    x1, y1 = 0, 0\n",
    "\n",
    "    for y in range(0, height, M):\n",
    "        for x in range(0, width, N):\n",
    "\n",
    "            y1 = y + M    # lower right coordinate to construct rectangle\n",
    "            x1 = x + N\n",
    "\n",
    "            # Check whether patch lower right coordinate exceeds image height and width\n",
    "            if x1 >= width and y1 >= height:\n",
    "                x1 = width - 1\n",
    "                y1 = height - 1\n",
    "                tile = img[y:height, x:width]\n",
    "                cv.rectangle(img_copy, (x, y), (x1, y1), line_color, 1)\n",
    "            # When patch lower right y-coordinate exceeds patch height\n",
    "            elif y1 >= height:\n",
    "                y1 = height - 1\n",
    "                cv.rectangle(img_copy, (x, y), (x1, y1), line_color, 1)\n",
    "\n",
    "            # When patch lower right x-coordinate exceeds patch width\n",
    "            elif x1 >= width:\n",
    "                x1 = width - 1\n",
    "                cv.rectangle(img_copy, (x, y), (x1, y1), line_color, 1)\n",
    "\n",
    "            else:\n",
    "                cv.rectangle(img_copy, (x, y), (x1, y1), line_color, 1)\n",
    "    return img_copy\n",
    "\n",
    "img = cv.imread('lena.jfif')\n",
    "num_horizontal_grid = 3\n",
    "num_vertical_grid = 3\n",
    "result=crop_grid(img, num_horizontal_grid, num_vertical_grid, 0) \n",
    "\n",
    "cv.imshow('Q1', result)\n",
    "cv.waitKey(0)\n",
    "cv.destroyAllWindows()"
   ]
  },
  {
   "cell_type": "markdown",
   "id": "2887b4c7",
   "metadata": {},
   "source": [
    "# 2\n",
    "Display image sequences of smooth transition of two images with different values of \n",
    "α. Refer to code in section \"Image blending\". Use \"lena.jfif\" and \"coins.jfif\" as the base images."
   ]
  },
  {
   "cell_type": "code",
   "execution_count": 4,
   "id": "e6caa505",
   "metadata": {},
   "outputs": [],
   "source": [
    "#2 way = for loop, gui = track bar\n",
    "\n",
    "img1 = cv.imread('lena.jfif')\n",
    "img2 = cv.imread('coins.jfif')\n",
    "\n",
    "# Resize img2\n",
    "new_shape = img1.shape[:2]\n",
    "img2 = cv.resize(img2, new_shape)\n",
    "\n",
    "a=[0,0.25,0.5,0.75,1]\n",
    "for i in range (5):\n",
    "    dst = cv.addWeighted(img1, a[i], img2, a[4-i], 0)\n",
    "    img_name='Q2'+chr(i)\n",
    "    cv.imshow(img_name, dst)\n",
    "    \n",
    "\n",
    "cv.waitKey(0)\n",
    "cv.destroyAllWindows()"
   ]
  },
  {
   "cell_type": "markdown",
   "id": "7a36d4e0",
   "metadata": {},
   "source": [
    "# 3\n",
    "Rotate image by 45 degrees without cropping the sides of the image. (Hint: There are 2 strategies to tackle these problems). Use \"lena.jfif\" as the input image.\n",
    "Use external libraries imutils.\n",
    "Modify the transformation matrix."
   ]
  },
  {
   "cell_type": "code",
   "execution_count": 5,
   "id": "569b2994",
   "metadata": {},
   "outputs": [],
   "source": [
    "img = cv.imread('lena.jfif')\n",
    "rows, cols = img.shape[:2]\n",
    "centreY, centreX = rows//2, cols//2\n",
    "M = cv.getRotationMatrix2D(((cols-1)/2.0, (rows-1)/2.0), 45, 1)\n",
    "\n",
    "cosM = np.abs(M[0][0])\n",
    "sinM = np.abs(M[0][1])\n",
    "\n",
    "newHeight = int((rows * sinM) +(cols * cosM))\n",
    "newWidth = int((rows * cosM)+(cols * sinM))\n",
    "\n",
    "M[0][2] += (newWidth/2) - centreX\n",
    "M[1][2] += (newHeight/2) - centreY\n",
    "    \n",
    "dst = cv.warpAffine(img, M, (newWidth, newHeight))\n",
    "\n",
    "cv.imshow('Q3', dst)\n",
    "cv.waitKey(0)\n",
    "cv.destroyAllWindows()"
   ]
  },
  {
   "cell_type": "markdown",
   "id": "a50c8dcf",
   "metadata": {},
   "source": [
    "# 4\n",
    "Use the images with titles: \"flower.jfif\" and \"native-bee.png\". I want to put flower above an image. If I add two images, it will change color. If I blend it, I get a transparent effect. But I want it to be opaque. If it was a rectangular region, we could use the ROI as we did in the previous section. But flower is not a rectangular region. This is where bitwise operations, like AND, OR, NOT and XOR really come in handy. The associated functions are cv.bitwise_and(), cv.bitwise_or() and cv.bitwise_not(). You need to use cv.threshold function to segment the flower. Please refer to online documentation for more info. The result should resemble the following:"
   ]
  },
  {
   "cell_type": "code",
   "execution_count": 6,
   "id": "2a2a8cf1",
   "metadata": {},
   "outputs": [],
   "source": [
    "img1 = cv.imread('native-bee.png')\n",
    "img2 = cv.imread('flower.jfif')\n",
    "\n",
    "#create a roi\n",
    "rows, cols = img2.shape[:2]\n",
    "roi = img1[0:rows, 0:cols]\n",
    "\n",
    "#create mask of flower\n",
    "img2_Gray = cv.cvtColor(img2,cv.COLOR_BGR2GRAY)\n",
    "ret, mask = cv.threshold(img2_Gray, 70, 255, cv.THRESH_BINARY)\n",
    "mask_inv = cv.bitwise_not(mask)\n",
    "\n",
    "#blackout the area of flower\n",
    "img1B = cv.bitwise_and(roi,roi,mask = mask_inv)\n",
    "\n",
    "#take region of flower\n",
    "img2F = cv.bitwise_and(img2,img2,mask = mask)\n",
    "\n",
    "\n",
    "dst = cv.add(img1B,img2F)\n",
    "img1[0:rows, 0:cols ] = dst\n",
    "\n",
    "\n",
    "cv.imshow('Q4', img1)\n",
    "cv.waitKey(0)\n",
    "cv.destroyAllWindows()"
   ]
  }
 ],
 "metadata": {
  "kernelspec": {
   "display_name": "Python 3 (ipykernel)",
   "language": "python",
   "name": "python3"
  },
  "language_info": {
   "codemirror_mode": {
    "name": "ipython",
    "version": 3
   },
   "file_extension": ".py",
   "mimetype": "text/x-python",
   "name": "python",
   "nbconvert_exporter": "python",
   "pygments_lexer": "ipython3",
   "version": "3.9.12"
  }
 },
 "nbformat": 4,
 "nbformat_minor": 5
}
